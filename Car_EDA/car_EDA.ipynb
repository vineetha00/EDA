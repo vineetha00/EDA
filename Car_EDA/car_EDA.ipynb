{
 "cells": [
  {
   "cell_type": "code",
   "execution_count": 8,
   "metadata": {},
   "outputs": [],
   "source": [
    "import pandas as pd\n",
    "import matplotlib.pyplot as plt   \n",
    "import numpy as np   \n",
    "import seaborn as sns   \n",
    "from datetime import date   \n",
    "\n",
    "from warnings import filterwarnings\n",
    "filterwarnings('ignore')"
   ]
  },
  {
   "cell_type": "code",
   "execution_count": 9,
   "metadata": {},
   "outputs": [
    {
     "data": {
      "text/html": [
       "<div>\n",
       "<style scoped>\n",
       "    .dataframe tbody tr th:only-of-type {\n",
       "        vertical-align: middle;\n",
       "    }\n",
       "\n",
       "    .dataframe tbody tr th {\n",
       "        vertical-align: top;\n",
       "    }\n",
       "\n",
       "    .dataframe thead th {\n",
       "        text-align: right;\n",
       "    }\n",
       "</style>\n",
       "<table border=\"1\" class=\"dataframe\">\n",
       "  <thead>\n",
       "    <tr style=\"text-align: right;\">\n",
       "      <th></th>\n",
       "      <th>S.No.</th>\n",
       "      <th>Name</th>\n",
       "      <th>Location</th>\n",
       "      <th>Year</th>\n",
       "      <th>Kilometers_Driven</th>\n",
       "      <th>Fuel_Type</th>\n",
       "      <th>Transmission</th>\n",
       "      <th>Owner_Type</th>\n",
       "      <th>Mileage</th>\n",
       "      <th>Engine</th>\n",
       "      <th>Power</th>\n",
       "      <th>Seats</th>\n",
       "      <th>New_Price</th>\n",
       "      <th>Price</th>\n",
       "    </tr>\n",
       "  </thead>\n",
       "  <tbody>\n",
       "    <tr>\n",
       "      <th>0</th>\n",
       "      <td>0</td>\n",
       "      <td>Maruti Wagon R LXI CNG</td>\n",
       "      <td>Mumbai</td>\n",
       "      <td>2010</td>\n",
       "      <td>72000</td>\n",
       "      <td>CNG</td>\n",
       "      <td>Manual</td>\n",
       "      <td>First</td>\n",
       "      <td>26.6 km/kg</td>\n",
       "      <td>998 CC</td>\n",
       "      <td>58.16 bhp</td>\n",
       "      <td>5.0</td>\n",
       "      <td>NaN</td>\n",
       "      <td>1.75</td>\n",
       "    </tr>\n",
       "    <tr>\n",
       "      <th>1</th>\n",
       "      <td>1</td>\n",
       "      <td>Hyundai Creta 1.6 CRDi SX Option</td>\n",
       "      <td>Pune</td>\n",
       "      <td>2015</td>\n",
       "      <td>41000</td>\n",
       "      <td>Diesel</td>\n",
       "      <td>Manual</td>\n",
       "      <td>First</td>\n",
       "      <td>19.67 kmpl</td>\n",
       "      <td>1582 CC</td>\n",
       "      <td>126.2 bhp</td>\n",
       "      <td>5.0</td>\n",
       "      <td>NaN</td>\n",
       "      <td>12.50</td>\n",
       "    </tr>\n",
       "    <tr>\n",
       "      <th>2</th>\n",
       "      <td>2</td>\n",
       "      <td>Honda Jazz V</td>\n",
       "      <td>Chennai</td>\n",
       "      <td>2011</td>\n",
       "      <td>46000</td>\n",
       "      <td>Petrol</td>\n",
       "      <td>Manual</td>\n",
       "      <td>First</td>\n",
       "      <td>18.2 kmpl</td>\n",
       "      <td>1199 CC</td>\n",
       "      <td>88.7 bhp</td>\n",
       "      <td>5.0</td>\n",
       "      <td>8.61 Lakh</td>\n",
       "      <td>4.50</td>\n",
       "    </tr>\n",
       "    <tr>\n",
       "      <th>3</th>\n",
       "      <td>3</td>\n",
       "      <td>Maruti Ertiga VDI</td>\n",
       "      <td>Chennai</td>\n",
       "      <td>2012</td>\n",
       "      <td>87000</td>\n",
       "      <td>Diesel</td>\n",
       "      <td>Manual</td>\n",
       "      <td>First</td>\n",
       "      <td>20.77 kmpl</td>\n",
       "      <td>1248 CC</td>\n",
       "      <td>88.76 bhp</td>\n",
       "      <td>7.0</td>\n",
       "      <td>NaN</td>\n",
       "      <td>6.00</td>\n",
       "    </tr>\n",
       "    <tr>\n",
       "      <th>4</th>\n",
       "      <td>4</td>\n",
       "      <td>Audi A4 New 2.0 TDI Multitronic</td>\n",
       "      <td>Coimbatore</td>\n",
       "      <td>2013</td>\n",
       "      <td>40670</td>\n",
       "      <td>Diesel</td>\n",
       "      <td>Automatic</td>\n",
       "      <td>Second</td>\n",
       "      <td>15.2 kmpl</td>\n",
       "      <td>1968 CC</td>\n",
       "      <td>140.8 bhp</td>\n",
       "      <td>5.0</td>\n",
       "      <td>NaN</td>\n",
       "      <td>17.74</td>\n",
       "    </tr>\n",
       "  </tbody>\n",
       "</table>\n",
       "</div>"
      ],
      "text/plain": [
       "   S.No.                              Name    Location  Year  \\\n",
       "0      0            Maruti Wagon R LXI CNG      Mumbai  2010   \n",
       "1      1  Hyundai Creta 1.6 CRDi SX Option        Pune  2015   \n",
       "2      2                      Honda Jazz V     Chennai  2011   \n",
       "3      3                 Maruti Ertiga VDI     Chennai  2012   \n",
       "4      4   Audi A4 New 2.0 TDI Multitronic  Coimbatore  2013   \n",
       "\n",
       "   Kilometers_Driven Fuel_Type Transmission Owner_Type     Mileage   Engine  \\\n",
       "0              72000       CNG       Manual      First  26.6 km/kg   998 CC   \n",
       "1              41000    Diesel       Manual      First  19.67 kmpl  1582 CC   \n",
       "2              46000    Petrol       Manual      First   18.2 kmpl  1199 CC   \n",
       "3              87000    Diesel       Manual      First  20.77 kmpl  1248 CC   \n",
       "4              40670    Diesel    Automatic     Second   15.2 kmpl  1968 CC   \n",
       "\n",
       "       Power  Seats  New_Price  Price  \n",
       "0  58.16 bhp    5.0        NaN   1.75  \n",
       "1  126.2 bhp    5.0        NaN  12.50  \n",
       "2   88.7 bhp    5.0  8.61 Lakh   4.50  \n",
       "3  88.76 bhp    7.0        NaN   6.00  \n",
       "4  140.8 bhp    5.0        NaN  17.74  "
      ]
     },
     "execution_count": 9,
     "metadata": {},
     "output_type": "execute_result"
    }
   ],
   "source": [
    "df = pd.read_csv(r'E:\\Python\\EDA\\Car_EDA\\used_cars_data.csv')\n",
    "df.head()"
   ]
  },
  {
   "cell_type": "code",
   "execution_count": 10,
   "metadata": {},
   "outputs": [
    {
     "data": {
      "text/html": [
       "<div>\n",
       "<style scoped>\n",
       "    .dataframe tbody tr th:only-of-type {\n",
       "        vertical-align: middle;\n",
       "    }\n",
       "\n",
       "    .dataframe tbody tr th {\n",
       "        vertical-align: top;\n",
       "    }\n",
       "\n",
       "    .dataframe thead th {\n",
       "        text-align: right;\n",
       "    }\n",
       "</style>\n",
       "<table border=\"1\" class=\"dataframe\">\n",
       "  <thead>\n",
       "    <tr style=\"text-align: right;\">\n",
       "      <th></th>\n",
       "      <th>S.No.</th>\n",
       "      <th>Name</th>\n",
       "      <th>Location</th>\n",
       "      <th>Year</th>\n",
       "      <th>Kilometers_Driven</th>\n",
       "      <th>Fuel_Type</th>\n",
       "      <th>Transmission</th>\n",
       "      <th>Owner_Type</th>\n",
       "      <th>Mileage</th>\n",
       "      <th>Engine</th>\n",
       "      <th>Power</th>\n",
       "      <th>Seats</th>\n",
       "      <th>New_Price</th>\n",
       "      <th>Price</th>\n",
       "    </tr>\n",
       "  </thead>\n",
       "  <tbody>\n",
       "    <tr>\n",
       "      <th>7248</th>\n",
       "      <td>7248</td>\n",
       "      <td>Volkswagen Vento Diesel Trendline</td>\n",
       "      <td>Hyderabad</td>\n",
       "      <td>2011</td>\n",
       "      <td>89411</td>\n",
       "      <td>Diesel</td>\n",
       "      <td>Manual</td>\n",
       "      <td>First</td>\n",
       "      <td>20.54 kmpl</td>\n",
       "      <td>1598 CC</td>\n",
       "      <td>103.6 bhp</td>\n",
       "      <td>5.0</td>\n",
       "      <td>NaN</td>\n",
       "      <td>NaN</td>\n",
       "    </tr>\n",
       "    <tr>\n",
       "      <th>7249</th>\n",
       "      <td>7249</td>\n",
       "      <td>Volkswagen Polo GT TSI</td>\n",
       "      <td>Mumbai</td>\n",
       "      <td>2015</td>\n",
       "      <td>59000</td>\n",
       "      <td>Petrol</td>\n",
       "      <td>Automatic</td>\n",
       "      <td>First</td>\n",
       "      <td>17.21 kmpl</td>\n",
       "      <td>1197 CC</td>\n",
       "      <td>103.6 bhp</td>\n",
       "      <td>5.0</td>\n",
       "      <td>NaN</td>\n",
       "      <td>NaN</td>\n",
       "    </tr>\n",
       "    <tr>\n",
       "      <th>7250</th>\n",
       "      <td>7250</td>\n",
       "      <td>Nissan Micra Diesel XV</td>\n",
       "      <td>Kolkata</td>\n",
       "      <td>2012</td>\n",
       "      <td>28000</td>\n",
       "      <td>Diesel</td>\n",
       "      <td>Manual</td>\n",
       "      <td>First</td>\n",
       "      <td>23.08 kmpl</td>\n",
       "      <td>1461 CC</td>\n",
       "      <td>63.1 bhp</td>\n",
       "      <td>5.0</td>\n",
       "      <td>NaN</td>\n",
       "      <td>NaN</td>\n",
       "    </tr>\n",
       "    <tr>\n",
       "      <th>7251</th>\n",
       "      <td>7251</td>\n",
       "      <td>Volkswagen Polo GT TSI</td>\n",
       "      <td>Pune</td>\n",
       "      <td>2013</td>\n",
       "      <td>52262</td>\n",
       "      <td>Petrol</td>\n",
       "      <td>Automatic</td>\n",
       "      <td>Third</td>\n",
       "      <td>17.2 kmpl</td>\n",
       "      <td>1197 CC</td>\n",
       "      <td>103.6 bhp</td>\n",
       "      <td>5.0</td>\n",
       "      <td>NaN</td>\n",
       "      <td>NaN</td>\n",
       "    </tr>\n",
       "    <tr>\n",
       "      <th>7252</th>\n",
       "      <td>7252</td>\n",
       "      <td>Mercedes-Benz E-Class 2009-2013 E 220 CDI Avan...</td>\n",
       "      <td>Kochi</td>\n",
       "      <td>2014</td>\n",
       "      <td>72443</td>\n",
       "      <td>Diesel</td>\n",
       "      <td>Automatic</td>\n",
       "      <td>First</td>\n",
       "      <td>10.0 kmpl</td>\n",
       "      <td>2148 CC</td>\n",
       "      <td>170 bhp</td>\n",
       "      <td>5.0</td>\n",
       "      <td>NaN</td>\n",
       "      <td>NaN</td>\n",
       "    </tr>\n",
       "  </tbody>\n",
       "</table>\n",
       "</div>"
      ],
      "text/plain": [
       "      S.No.                                               Name   Location  \\\n",
       "7248   7248                  Volkswagen Vento Diesel Trendline  Hyderabad   \n",
       "7249   7249                             Volkswagen Polo GT TSI     Mumbai   \n",
       "7250   7250                             Nissan Micra Diesel XV    Kolkata   \n",
       "7251   7251                             Volkswagen Polo GT TSI       Pune   \n",
       "7252   7252  Mercedes-Benz E-Class 2009-2013 E 220 CDI Avan...      Kochi   \n",
       "\n",
       "      Year  Kilometers_Driven Fuel_Type Transmission Owner_Type     Mileage  \\\n",
       "7248  2011              89411    Diesel       Manual      First  20.54 kmpl   \n",
       "7249  2015              59000    Petrol    Automatic      First  17.21 kmpl   \n",
       "7250  2012              28000    Diesel       Manual      First  23.08 kmpl   \n",
       "7251  2013              52262    Petrol    Automatic      Third   17.2 kmpl   \n",
       "7252  2014              72443    Diesel    Automatic      First   10.0 kmpl   \n",
       "\n",
       "       Engine      Power  Seats New_Price  Price  \n",
       "7248  1598 CC  103.6 bhp    5.0       NaN    NaN  \n",
       "7249  1197 CC  103.6 bhp    5.0       NaN    NaN  \n",
       "7250  1461 CC   63.1 bhp    5.0       NaN    NaN  \n",
       "7251  1197 CC  103.6 bhp    5.0       NaN    NaN  \n",
       "7252  2148 CC    170 bhp    5.0       NaN    NaN  "
      ]
     },
     "execution_count": 10,
     "metadata": {},
     "output_type": "execute_result"
    }
   ],
   "source": [
    "df.tail()"
   ]
  },
  {
   "cell_type": "code",
   "execution_count": 11,
   "metadata": {},
   "outputs": [
    {
     "data": {
      "text/plain": [
       "(7253, 14)"
      ]
     },
     "execution_count": 11,
     "metadata": {},
     "output_type": "execute_result"
    }
   ],
   "source": [
    "df.shape"
   ]
  },
  {
   "cell_type": "code",
   "execution_count": 12,
   "metadata": {},
   "outputs": [
    {
     "data": {
      "text/plain": [
       "Index(['S.No.', 'Name', 'Location', 'Year', 'Kilometers_Driven', 'Fuel_Type',\n",
       "       'Transmission', 'Owner_Type', 'Mileage', 'Engine', 'Power', 'Seats',\n",
       "       'New_Price', 'Price'],\n",
       "      dtype='object')"
      ]
     },
     "execution_count": 12,
     "metadata": {},
     "output_type": "execute_result"
    }
   ],
   "source": [
    "df.columns"
   ]
  },
  {
   "cell_type": "code",
   "execution_count": 13,
   "metadata": {},
   "outputs": [
    {
     "data": {
      "text/plain": [
       "S.No.                7253\n",
       "Name                 2041\n",
       "Location               11\n",
       "Year                   23\n",
       "Kilometers_Driven    3660\n",
       "Fuel_Type               5\n",
       "Transmission            2\n",
       "Owner_Type              4\n",
       "Mileage               450\n",
       "Engine                150\n",
       "Power                 386\n",
       "Seats                   9\n",
       "New_Price             625\n",
       "Price                1373\n",
       "dtype: int64"
      ]
     },
     "execution_count": 13,
     "metadata": {},
     "output_type": "execute_result"
    }
   ],
   "source": [
    "df.nunique()"
   ]
  },
  {
   "cell_type": "code",
   "execution_count": 14,
   "metadata": {},
   "outputs": [
    {
     "name": "stdout",
     "output_type": "stream",
     "text": [
      "<class 'pandas.core.frame.DataFrame'>\n",
      "RangeIndex: 7253 entries, 0 to 7252\n",
      "Data columns (total 14 columns):\n",
      " #   Column             Non-Null Count  Dtype  \n",
      "---  ------             --------------  -----  \n",
      " 0   S.No.              7253 non-null   int64  \n",
      " 1   Name               7253 non-null   object \n",
      " 2   Location           7253 non-null   object \n",
      " 3   Year               7253 non-null   int64  \n",
      " 4   Kilometers_Driven  7253 non-null   int64  \n",
      " 5   Fuel_Type          7253 non-null   object \n",
      " 6   Transmission       7253 non-null   object \n",
      " 7   Owner_Type         7253 non-null   object \n",
      " 8   Mileage            7251 non-null   object \n",
      " 9   Engine             7207 non-null   object \n",
      " 10  Power              7207 non-null   object \n",
      " 11  Seats              7200 non-null   float64\n",
      " 12  New_Price          1006 non-null   object \n",
      " 13  Price              6019 non-null   float64\n",
      "dtypes: float64(2), int64(3), object(9)\n",
      "memory usage: 793.4+ KB\n"
     ]
    }
   ],
   "source": [
    "df.info()"
   ]
  },
  {
   "cell_type": "code",
   "execution_count": 15,
   "metadata": {},
   "outputs": [
    {
     "data": {
      "text/plain": [
       "S.No.                   0\n",
       "Name                    0\n",
       "Location                0\n",
       "Year                    0\n",
       "Kilometers_Driven       0\n",
       "Fuel_Type               0\n",
       "Transmission            0\n",
       "Owner_Type              0\n",
       "Mileage                 2\n",
       "Engine                 46\n",
       "Power                  46\n",
       "Seats                  53\n",
       "New_Price            6247\n",
       "Price                1234\n",
       "dtype: int64"
      ]
     },
     "execution_count": 15,
     "metadata": {},
     "output_type": "execute_result"
    }
   ],
   "source": [
    "df.isnull().sum()"
   ]
  },
  {
   "cell_type": "code",
   "execution_count": 16,
   "metadata": {},
   "outputs": [
    {
     "data": {
      "text/plain": [
       "S.No.                 0.000000\n",
       "Name                  0.000000\n",
       "Location              0.000000\n",
       "Year                  0.000000\n",
       "Kilometers_Driven     0.000000\n",
       "Fuel_Type             0.000000\n",
       "Transmission          0.000000\n",
       "Owner_Type            0.000000\n",
       "Mileage               0.027575\n",
       "Engine                0.634220\n",
       "Power                 0.634220\n",
       "Seats                 0.730732\n",
       "New_Price            86.129877\n",
       "Price                17.013650\n",
       "dtype: float64"
      ]
     },
     "execution_count": 16,
     "metadata": {},
     "output_type": "execute_result"
    }
   ],
   "source": [
    "df.isnull().sum()/len(df)*100"
   ]
  },
  {
   "cell_type": "code",
   "execution_count": 17,
   "metadata": {},
   "outputs": [
    {
     "data": {
      "text/plain": [
       "np.int64(0)"
      ]
     },
     "execution_count": 17,
     "metadata": {},
     "output_type": "execute_result"
    }
   ],
   "source": [
    "df.duplicated().sum()"
   ]
  },
  {
   "cell_type": "code",
   "execution_count": 18,
   "metadata": {},
   "outputs": [],
   "source": [
    "df.drop(['S.No.','New_Price'], axis =1, inplace = True)"
   ]
  },
  {
   "cell_type": "code",
   "execution_count": 19,
   "metadata": {},
   "outputs": [],
   "source": [
    "df.dropna(subset = ['Price','Seats','Mileage'], inplace = True)"
   ]
  },
  {
   "cell_type": "code",
   "execution_count": 20,
   "metadata": {},
   "outputs": [
    {
     "data": {
      "text/html": [
       "<div>\n",
       "<style scoped>\n",
       "    .dataframe tbody tr th:only-of-type {\n",
       "        vertical-align: middle;\n",
       "    }\n",
       "\n",
       "    .dataframe tbody tr th {\n",
       "        vertical-align: top;\n",
       "    }\n",
       "\n",
       "    .dataframe thead th {\n",
       "        text-align: right;\n",
       "    }\n",
       "</style>\n",
       "<table border=\"1\" class=\"dataframe\">\n",
       "  <thead>\n",
       "    <tr style=\"text-align: right;\">\n",
       "      <th></th>\n",
       "      <th>Name</th>\n",
       "      <th>Location</th>\n",
       "      <th>Year</th>\n",
       "      <th>Kilometers_Driven</th>\n",
       "      <th>Fuel_Type</th>\n",
       "      <th>Transmission</th>\n",
       "      <th>Owner_Type</th>\n",
       "      <th>Mileage</th>\n",
       "      <th>Engine</th>\n",
       "      <th>Power</th>\n",
       "      <th>Seats</th>\n",
       "      <th>Price</th>\n",
       "    </tr>\n",
       "  </thead>\n",
       "  <tbody>\n",
       "    <tr>\n",
       "      <th>0</th>\n",
       "      <td>Maruti Wagon R LXI CNG</td>\n",
       "      <td>Mumbai</td>\n",
       "      <td>2010</td>\n",
       "      <td>72000</td>\n",
       "      <td>CNG</td>\n",
       "      <td>Manual</td>\n",
       "      <td>First</td>\n",
       "      <td>26.6 km/kg</td>\n",
       "      <td>998 CC</td>\n",
       "      <td>58.16 bhp</td>\n",
       "      <td>5.0</td>\n",
       "      <td>1.75</td>\n",
       "    </tr>\n",
       "    <tr>\n",
       "      <th>1</th>\n",
       "      <td>Hyundai Creta 1.6 CRDi SX Option</td>\n",
       "      <td>Pune</td>\n",
       "      <td>2015</td>\n",
       "      <td>41000</td>\n",
       "      <td>Diesel</td>\n",
       "      <td>Manual</td>\n",
       "      <td>First</td>\n",
       "      <td>19.67 kmpl</td>\n",
       "      <td>1582 CC</td>\n",
       "      <td>126.2 bhp</td>\n",
       "      <td>5.0</td>\n",
       "      <td>12.50</td>\n",
       "    </tr>\n",
       "    <tr>\n",
       "      <th>2</th>\n",
       "      <td>Honda Jazz V</td>\n",
       "      <td>Chennai</td>\n",
       "      <td>2011</td>\n",
       "      <td>46000</td>\n",
       "      <td>Petrol</td>\n",
       "      <td>Manual</td>\n",
       "      <td>First</td>\n",
       "      <td>18.2 kmpl</td>\n",
       "      <td>1199 CC</td>\n",
       "      <td>88.7 bhp</td>\n",
       "      <td>5.0</td>\n",
       "      <td>4.50</td>\n",
       "    </tr>\n",
       "    <tr>\n",
       "      <th>3</th>\n",
       "      <td>Maruti Ertiga VDI</td>\n",
       "      <td>Chennai</td>\n",
       "      <td>2012</td>\n",
       "      <td>87000</td>\n",
       "      <td>Diesel</td>\n",
       "      <td>Manual</td>\n",
       "      <td>First</td>\n",
       "      <td>20.77 kmpl</td>\n",
       "      <td>1248 CC</td>\n",
       "      <td>88.76 bhp</td>\n",
       "      <td>7.0</td>\n",
       "      <td>6.00</td>\n",
       "    </tr>\n",
       "    <tr>\n",
       "      <th>4</th>\n",
       "      <td>Audi A4 New 2.0 TDI Multitronic</td>\n",
       "      <td>Coimbatore</td>\n",
       "      <td>2013</td>\n",
       "      <td>40670</td>\n",
       "      <td>Diesel</td>\n",
       "      <td>Automatic</td>\n",
       "      <td>Second</td>\n",
       "      <td>15.2 kmpl</td>\n",
       "      <td>1968 CC</td>\n",
       "      <td>140.8 bhp</td>\n",
       "      <td>5.0</td>\n",
       "      <td>17.74</td>\n",
       "    </tr>\n",
       "  </tbody>\n",
       "</table>\n",
       "</div>"
      ],
      "text/plain": [
       "                               Name    Location  Year  Kilometers_Driven  \\\n",
       "0            Maruti Wagon R LXI CNG      Mumbai  2010              72000   \n",
       "1  Hyundai Creta 1.6 CRDi SX Option        Pune  2015              41000   \n",
       "2                      Honda Jazz V     Chennai  2011              46000   \n",
       "3                 Maruti Ertiga VDI     Chennai  2012              87000   \n",
       "4   Audi A4 New 2.0 TDI Multitronic  Coimbatore  2013              40670   \n",
       "\n",
       "  Fuel_Type Transmission Owner_Type     Mileage   Engine      Power  Seats  \\\n",
       "0       CNG       Manual      First  26.6 km/kg   998 CC  58.16 bhp    5.0   \n",
       "1    Diesel       Manual      First  19.67 kmpl  1582 CC  126.2 bhp    5.0   \n",
       "2    Petrol       Manual      First   18.2 kmpl  1199 CC   88.7 bhp    5.0   \n",
       "3    Diesel       Manual      First  20.77 kmpl  1248 CC  88.76 bhp    7.0   \n",
       "4    Diesel    Automatic     Second   15.2 kmpl  1968 CC  140.8 bhp    5.0   \n",
       "\n",
       "   Price  \n",
       "0   1.75  \n",
       "1  12.50  \n",
       "2   4.50  \n",
       "3   6.00  \n",
       "4  17.74  "
      ]
     },
     "execution_count": 20,
     "metadata": {},
     "output_type": "execute_result"
    }
   ],
   "source": [
    "df.head()"
   ]
  },
  {
   "cell_type": "code",
   "execution_count": 21,
   "metadata": {},
   "outputs": [],
   "source": [
    "df[['Power(Numeric)','Unit']] = df['Power'].str.split(' ', expand= True)\n",
    "df['Power(Numeric)'].replace({'null':'0'}, inplace=True)\n",
    "df['Power(Numeric)']=df['Power(Numeric)'].astype('float')"
   ]
  },
  {
   "cell_type": "code",
   "execution_count": 22,
   "metadata": {},
   "outputs": [],
   "source": [
    "df[['Engine(Numeric)','Unit']] = df['Engine'].str.split(' ', expand= True)\n",
    "df['Engine(Numeric)']=df['Engine(Numeric)'].astype('float')"
   ]
  },
  {
   "cell_type": "code",
   "execution_count": 23,
   "metadata": {},
   "outputs": [],
   "source": [
    "df[['Mileage(Numeric)','Unit']] = df['Mileage'].str.split(' ', expand= True)\n",
    "df['Mileage(Numeric)']=df['Mileage(Numeric)'].astype('float')"
   ]
  },
  {
   "cell_type": "code",
   "execution_count": 24,
   "metadata": {},
   "outputs": [],
   "source": [
    "df.drop('Unit', axis =1, inplace = True)"
   ]
  },
  {
   "cell_type": "code",
   "execution_count": 25,
   "metadata": {},
   "outputs": [],
   "source": [
    "df['Car_Age']= date.today().year-df['Year']"
   ]
  },
  {
   "cell_type": "code",
   "execution_count": 26,
   "metadata": {},
   "outputs": [
    {
     "data": {
      "text/html": [
       "<div>\n",
       "<style scoped>\n",
       "    .dataframe tbody tr th:only-of-type {\n",
       "        vertical-align: middle;\n",
       "    }\n",
       "\n",
       "    .dataframe tbody tr th {\n",
       "        vertical-align: top;\n",
       "    }\n",
       "\n",
       "    .dataframe thead th {\n",
       "        text-align: right;\n",
       "    }\n",
       "</style>\n",
       "<table border=\"1\" class=\"dataframe\">\n",
       "  <thead>\n",
       "    <tr style=\"text-align: right;\">\n",
       "      <th></th>\n",
       "      <th>Name</th>\n",
       "      <th>Brand</th>\n",
       "      <th>Model</th>\n",
       "    </tr>\n",
       "  </thead>\n",
       "  <tbody>\n",
       "    <tr>\n",
       "      <th>0</th>\n",
       "      <td>Maruti Wagon R LXI CNG</td>\n",
       "      <td>Maruti</td>\n",
       "      <td>WagonR</td>\n",
       "    </tr>\n",
       "    <tr>\n",
       "      <th>1</th>\n",
       "      <td>Hyundai Creta 1.6 CRDi SX Option</td>\n",
       "      <td>Hyundai</td>\n",
       "      <td>Creta1.6</td>\n",
       "    </tr>\n",
       "    <tr>\n",
       "      <th>2</th>\n",
       "      <td>Honda Jazz V</td>\n",
       "      <td>Honda</td>\n",
       "      <td>JazzV</td>\n",
       "    </tr>\n",
       "    <tr>\n",
       "      <th>3</th>\n",
       "      <td>Maruti Ertiga VDI</td>\n",
       "      <td>Maruti</td>\n",
       "      <td>ErtigaVDI</td>\n",
       "    </tr>\n",
       "    <tr>\n",
       "      <th>4</th>\n",
       "      <td>Audi A4 New 2.0 TDI Multitronic</td>\n",
       "      <td>Audi</td>\n",
       "      <td>A4New</td>\n",
       "    </tr>\n",
       "    <tr>\n",
       "      <th>...</th>\n",
       "      <td>...</td>\n",
       "      <td>...</td>\n",
       "      <td>...</td>\n",
       "    </tr>\n",
       "    <tr>\n",
       "      <th>6014</th>\n",
       "      <td>Maruti Swift VDI</td>\n",
       "      <td>Maruti</td>\n",
       "      <td>SwiftVDI</td>\n",
       "    </tr>\n",
       "    <tr>\n",
       "      <th>6015</th>\n",
       "      <td>Hyundai Xcent 1.1 CRDi S</td>\n",
       "      <td>Hyundai</td>\n",
       "      <td>Xcent1.1</td>\n",
       "    </tr>\n",
       "    <tr>\n",
       "      <th>6016</th>\n",
       "      <td>Mahindra Xylo D4 BSIV</td>\n",
       "      <td>Mahindra</td>\n",
       "      <td>XyloD4</td>\n",
       "    </tr>\n",
       "    <tr>\n",
       "      <th>6017</th>\n",
       "      <td>Maruti Wagon R VXI</td>\n",
       "      <td>Maruti</td>\n",
       "      <td>WagonR</td>\n",
       "    </tr>\n",
       "    <tr>\n",
       "      <th>6018</th>\n",
       "      <td>Chevrolet Beat Diesel</td>\n",
       "      <td>Chevrolet</td>\n",
       "      <td>BeatDiesel</td>\n",
       "    </tr>\n",
       "  </tbody>\n",
       "</table>\n",
       "<p>5975 rows × 3 columns</p>\n",
       "</div>"
      ],
      "text/plain": [
       "                                  Name      Brand       Model\n",
       "0               Maruti Wagon R LXI CNG     Maruti      WagonR\n",
       "1     Hyundai Creta 1.6 CRDi SX Option    Hyundai    Creta1.6\n",
       "2                         Honda Jazz V      Honda       JazzV\n",
       "3                    Maruti Ertiga VDI     Maruti   ErtigaVDI\n",
       "4      Audi A4 New 2.0 TDI Multitronic       Audi       A4New\n",
       "...                                ...        ...         ...\n",
       "6014                  Maruti Swift VDI     Maruti    SwiftVDI\n",
       "6015          Hyundai Xcent 1.1 CRDi S    Hyundai    Xcent1.1\n",
       "6016             Mahindra Xylo D4 BSIV   Mahindra      XyloD4\n",
       "6017                Maruti Wagon R VXI     Maruti      WagonR\n",
       "6018             Chevrolet Beat Diesel  Chevrolet  BeatDiesel\n",
       "\n",
       "[5975 rows x 3 columns]"
      ]
     },
     "execution_count": 26,
     "metadata": {},
     "output_type": "execute_result"
    }
   ],
   "source": [
    "df['Brand'] = df['Name'].str.split(' ', expand = True).get(0)\n",
    "df['Model'] = df['Name'].str.split(' ', expand = True).get(1) + df['Name'].str.split(' ', expand = True).get(2)\n",
    "df[['Name','Brand','Model']]"
   ]
  },
  {
   "cell_type": "code",
   "execution_count": 27,
   "metadata": {},
   "outputs": [
    {
     "data": {
      "text/plain": [
       "array(['Maruti', 'Hyundai', 'Honda', 'Audi', 'Nissan', 'Toyota',\n",
       "       'Volkswagen', 'Tata', 'Land', 'Mitsubishi', 'Renault',\n",
       "       'Mercedes-Benz', 'BMW', 'Mahindra', 'Ford', 'Porsche', 'Datsun',\n",
       "       'Jaguar', 'Volvo', 'Chevrolet', 'Skoda', 'Mini', 'Fiat', 'Jeep',\n",
       "       'Smart', 'Ambassador', 'Isuzu', 'ISUZU', 'Force', 'Bentley',\n",
       "       'Lamborghini'], dtype=object)"
      ]
     },
     "execution_count": 27,
     "metadata": {},
     "output_type": "execute_result"
    }
   ],
   "source": [
    "df['Brand'].unique()"
   ]
  },
  {
   "cell_type": "code",
   "execution_count": 28,
   "metadata": {},
   "outputs": [
    {
     "data": {
      "text/plain": [
       "'Land|Mini|Isuzu|ISUZU'"
      ]
     },
     "execution_count": 28,
     "metadata": {},
     "output_type": "execute_result"
    }
   ],
   "source": [
    "searchfor = ['Land','Mini','Isuzu','ISUZU']\n",
    "'|'.join(searchfor)"
   ]
  },
  {
   "cell_type": "code",
   "execution_count": 29,
   "metadata": {},
   "outputs": [
    {
     "data": {
      "text/html": [
       "<div>\n",
       "<style scoped>\n",
       "    .dataframe tbody tr th:only-of-type {\n",
       "        vertical-align: middle;\n",
       "    }\n",
       "\n",
       "    .dataframe tbody tr th {\n",
       "        vertical-align: top;\n",
       "    }\n",
       "\n",
       "    .dataframe thead th {\n",
       "        text-align: right;\n",
       "    }\n",
       "</style>\n",
       "<table border=\"1\" class=\"dataframe\">\n",
       "  <thead>\n",
       "    <tr style=\"text-align: right;\">\n",
       "      <th></th>\n",
       "      <th>Name</th>\n",
       "      <th>Location</th>\n",
       "      <th>Year</th>\n",
       "      <th>Kilometers_Driven</th>\n",
       "      <th>Fuel_Type</th>\n",
       "      <th>Transmission</th>\n",
       "      <th>Owner_Type</th>\n",
       "      <th>Mileage</th>\n",
       "      <th>Engine</th>\n",
       "      <th>Power</th>\n",
       "      <th>Seats</th>\n",
       "      <th>Price</th>\n",
       "      <th>Power(Numeric)</th>\n",
       "      <th>Engine(Numeric)</th>\n",
       "      <th>Mileage(Numeric)</th>\n",
       "      <th>Car_Age</th>\n",
       "      <th>Brand</th>\n",
       "      <th>Model</th>\n",
       "    </tr>\n",
       "  </thead>\n",
       "  <tbody>\n",
       "    <tr>\n",
       "      <th>13</th>\n",
       "      <td>Land Rover Range Rover 2.2L Pure</td>\n",
       "      <td>Delhi</td>\n",
       "      <td>2014</td>\n",
       "      <td>72000</td>\n",
       "      <td>Diesel</td>\n",
       "      <td>Automatic</td>\n",
       "      <td>First</td>\n",
       "      <td>12.7 kmpl</td>\n",
       "      <td>2179 CC</td>\n",
       "      <td>187.7 bhp</td>\n",
       "      <td>5.0</td>\n",
       "      <td>27.00</td>\n",
       "      <td>187.70</td>\n",
       "      <td>2179.0</td>\n",
       "      <td>12.70</td>\n",
       "      <td>10</td>\n",
       "      <td>Land</td>\n",
       "      <td>RoverRange</td>\n",
       "    </tr>\n",
       "    <tr>\n",
       "      <th>14</th>\n",
       "      <td>Land Rover Freelander 2 TD4 SE</td>\n",
       "      <td>Pune</td>\n",
       "      <td>2012</td>\n",
       "      <td>85000</td>\n",
       "      <td>Diesel</td>\n",
       "      <td>Automatic</td>\n",
       "      <td>Second</td>\n",
       "      <td>0.0 kmpl</td>\n",
       "      <td>2179 CC</td>\n",
       "      <td>115 bhp</td>\n",
       "      <td>5.0</td>\n",
       "      <td>17.50</td>\n",
       "      <td>115.00</td>\n",
       "      <td>2179.0</td>\n",
       "      <td>0.00</td>\n",
       "      <td>12</td>\n",
       "      <td>Land</td>\n",
       "      <td>RoverFreelander</td>\n",
       "    </tr>\n",
       "    <tr>\n",
       "      <th>176</th>\n",
       "      <td>Mini Countryman Cooper D</td>\n",
       "      <td>Jaipur</td>\n",
       "      <td>2017</td>\n",
       "      <td>8525</td>\n",
       "      <td>Diesel</td>\n",
       "      <td>Automatic</td>\n",
       "      <td>Second</td>\n",
       "      <td>16.6 kmpl</td>\n",
       "      <td>1998 CC</td>\n",
       "      <td>112 bhp</td>\n",
       "      <td>5.0</td>\n",
       "      <td>23.00</td>\n",
       "      <td>112.00</td>\n",
       "      <td>1998.0</td>\n",
       "      <td>16.60</td>\n",
       "      <td>7</td>\n",
       "      <td>Mini</td>\n",
       "      <td>CountrymanCooper</td>\n",
       "    </tr>\n",
       "    <tr>\n",
       "      <th>191</th>\n",
       "      <td>Land Rover Range Rover 2.2L Dynamic</td>\n",
       "      <td>Coimbatore</td>\n",
       "      <td>2018</td>\n",
       "      <td>36091</td>\n",
       "      <td>Diesel</td>\n",
       "      <td>Automatic</td>\n",
       "      <td>First</td>\n",
       "      <td>12.7 kmpl</td>\n",
       "      <td>2179 CC</td>\n",
       "      <td>187.7 bhp</td>\n",
       "      <td>5.0</td>\n",
       "      <td>55.76</td>\n",
       "      <td>187.70</td>\n",
       "      <td>2179.0</td>\n",
       "      <td>12.70</td>\n",
       "      <td>6</td>\n",
       "      <td>Land</td>\n",
       "      <td>RoverRange</td>\n",
       "    </tr>\n",
       "    <tr>\n",
       "      <th>228</th>\n",
       "      <td>Mini Cooper Convertible S</td>\n",
       "      <td>Kochi</td>\n",
       "      <td>2017</td>\n",
       "      <td>26327</td>\n",
       "      <td>Petrol</td>\n",
       "      <td>Automatic</td>\n",
       "      <td>First</td>\n",
       "      <td>16.82 kmpl</td>\n",
       "      <td>1998 CC</td>\n",
       "      <td>189.08 bhp</td>\n",
       "      <td>4.0</td>\n",
       "      <td>35.67</td>\n",
       "      <td>189.08</td>\n",
       "      <td>1998.0</td>\n",
       "      <td>16.82</td>\n",
       "      <td>7</td>\n",
       "      <td>Mini</td>\n",
       "      <td>CooperConvertible</td>\n",
       "    </tr>\n",
       "  </tbody>\n",
       "</table>\n",
       "</div>"
      ],
      "text/plain": [
       "                                    Name    Location  Year  Kilometers_Driven  \\\n",
       "13      Land Rover Range Rover 2.2L Pure       Delhi  2014              72000   \n",
       "14        Land Rover Freelander 2 TD4 SE        Pune  2012              85000   \n",
       "176             Mini Countryman Cooper D      Jaipur  2017               8525   \n",
       "191  Land Rover Range Rover 2.2L Dynamic  Coimbatore  2018              36091   \n",
       "228            Mini Cooper Convertible S       Kochi  2017              26327   \n",
       "\n",
       "    Fuel_Type Transmission Owner_Type     Mileage   Engine       Power  Seats  \\\n",
       "13     Diesel    Automatic      First   12.7 kmpl  2179 CC   187.7 bhp    5.0   \n",
       "14     Diesel    Automatic     Second    0.0 kmpl  2179 CC     115 bhp    5.0   \n",
       "176    Diesel    Automatic     Second   16.6 kmpl  1998 CC     112 bhp    5.0   \n",
       "191    Diesel    Automatic      First   12.7 kmpl  2179 CC   187.7 bhp    5.0   \n",
       "228    Petrol    Automatic      First  16.82 kmpl  1998 CC  189.08 bhp    4.0   \n",
       "\n",
       "     Price  Power(Numeric)  Engine(Numeric)  Mileage(Numeric)  Car_Age Brand  \\\n",
       "13   27.00          187.70           2179.0             12.70       10  Land   \n",
       "14   17.50          115.00           2179.0              0.00       12  Land   \n",
       "176  23.00          112.00           1998.0             16.60        7  Mini   \n",
       "191  55.76          187.70           2179.0             12.70        6  Land   \n",
       "228  35.67          189.08           1998.0             16.82        7  Mini   \n",
       "\n",
       "                 Model  \n",
       "13          RoverRange  \n",
       "14     RoverFreelander  \n",
       "176   CountrymanCooper  \n",
       "191         RoverRange  \n",
       "228  CooperConvertible  "
      ]
     },
     "execution_count": 29,
     "metadata": {},
     "output_type": "execute_result"
    }
   ],
   "source": [
    "df[df['Brand'].str.contains('|'.join(searchfor))].head()"
   ]
  },
  {
   "cell_type": "code",
   "execution_count": 30,
   "metadata": {},
   "outputs": [],
   "source": [
    "df['Brand']= df['Brand'].replace({'Land': 'Land Rover', 'Mini':'Mini Cooper', 'ISUZU': 'Isuzu'})"
   ]
  },
  {
   "cell_type": "code",
   "execution_count": 31,
   "metadata": {},
   "outputs": [
    {
     "data": {
      "text/html": [
       "<div>\n",
       "<style scoped>\n",
       "    .dataframe tbody tr th:only-of-type {\n",
       "        vertical-align: middle;\n",
       "    }\n",
       "\n",
       "    .dataframe tbody tr th {\n",
       "        vertical-align: top;\n",
       "    }\n",
       "\n",
       "    .dataframe thead th {\n",
       "        text-align: right;\n",
       "    }\n",
       "</style>\n",
       "<table border=\"1\" class=\"dataframe\">\n",
       "  <thead>\n",
       "    <tr style=\"text-align: right;\">\n",
       "      <th></th>\n",
       "      <th>count</th>\n",
       "      <th>mean</th>\n",
       "      <th>std</th>\n",
       "      <th>min</th>\n",
       "      <th>25%</th>\n",
       "      <th>50%</th>\n",
       "      <th>75%</th>\n",
       "      <th>max</th>\n",
       "    </tr>\n",
       "  </thead>\n",
       "  <tbody>\n",
       "    <tr>\n",
       "      <th>Year</th>\n",
       "      <td>5975.0</td>\n",
       "      <td>2013.386778</td>\n",
       "      <td>3.247238</td>\n",
       "      <td>1998.00</td>\n",
       "      <td>2012.0</td>\n",
       "      <td>2014.00</td>\n",
       "      <td>2016.00</td>\n",
       "      <td>2019.00</td>\n",
       "    </tr>\n",
       "    <tr>\n",
       "      <th>Kilometers_Driven</th>\n",
       "      <td>5975.0</td>\n",
       "      <td>58674.314979</td>\n",
       "      <td>91558.514361</td>\n",
       "      <td>171.00</td>\n",
       "      <td>33908.0</td>\n",
       "      <td>53000.00</td>\n",
       "      <td>73000.00</td>\n",
       "      <td>6500000.00</td>\n",
       "    </tr>\n",
       "    <tr>\n",
       "      <th>Seats</th>\n",
       "      <td>5975.0</td>\n",
       "      <td>5.278828</td>\n",
       "      <td>0.808959</td>\n",
       "      <td>0.00</td>\n",
       "      <td>5.0</td>\n",
       "      <td>5.00</td>\n",
       "      <td>5.00</td>\n",
       "      <td>10.00</td>\n",
       "    </tr>\n",
       "    <tr>\n",
       "      <th>Price</th>\n",
       "      <td>5975.0</td>\n",
       "      <td>9.501647</td>\n",
       "      <td>11.205736</td>\n",
       "      <td>0.44</td>\n",
       "      <td>3.5</td>\n",
       "      <td>5.65</td>\n",
       "      <td>9.95</td>\n",
       "      <td>160.00</td>\n",
       "    </tr>\n",
       "    <tr>\n",
       "      <th>Power(Numeric)</th>\n",
       "      <td>5975.0</td>\n",
       "      <td>111.324171</td>\n",
       "      <td>55.413209</td>\n",
       "      <td>0.00</td>\n",
       "      <td>74.0</td>\n",
       "      <td>92.70</td>\n",
       "      <td>138.10</td>\n",
       "      <td>560.00</td>\n",
       "    </tr>\n",
       "    <tr>\n",
       "      <th>Engine(Numeric)</th>\n",
       "      <td>5975.0</td>\n",
       "      <td>1621.606695</td>\n",
       "      <td>601.036987</td>\n",
       "      <td>624.00</td>\n",
       "      <td>1198.0</td>\n",
       "      <td>1493.00</td>\n",
       "      <td>1984.00</td>\n",
       "      <td>5998.00</td>\n",
       "    </tr>\n",
       "    <tr>\n",
       "      <th>Mileage(Numeric)</th>\n",
       "      <td>5975.0</td>\n",
       "      <td>18.179408</td>\n",
       "      <td>4.521801</td>\n",
       "      <td>0.00</td>\n",
       "      <td>15.2</td>\n",
       "      <td>18.16</td>\n",
       "      <td>21.10</td>\n",
       "      <td>33.54</td>\n",
       "    </tr>\n",
       "    <tr>\n",
       "      <th>Car_Age</th>\n",
       "      <td>5975.0</td>\n",
       "      <td>10.613222</td>\n",
       "      <td>3.247238</td>\n",
       "      <td>5.00</td>\n",
       "      <td>8.0</td>\n",
       "      <td>10.00</td>\n",
       "      <td>12.00</td>\n",
       "      <td>26.00</td>\n",
       "    </tr>\n",
       "  </tbody>\n",
       "</table>\n",
       "</div>"
      ],
      "text/plain": [
       "                    count          mean           std      min      25%  \\\n",
       "Year               5975.0   2013.386778      3.247238  1998.00   2012.0   \n",
       "Kilometers_Driven  5975.0  58674.314979  91558.514361   171.00  33908.0   \n",
       "Seats              5975.0      5.278828      0.808959     0.00      5.0   \n",
       "Price              5975.0      9.501647     11.205736     0.44      3.5   \n",
       "Power(Numeric)     5975.0    111.324171     55.413209     0.00     74.0   \n",
       "Engine(Numeric)    5975.0   1621.606695    601.036987   624.00   1198.0   \n",
       "Mileage(Numeric)   5975.0     18.179408      4.521801     0.00     15.2   \n",
       "Car_Age            5975.0     10.613222      3.247238     5.00      8.0   \n",
       "\n",
       "                        50%       75%         max  \n",
       "Year                2014.00   2016.00     2019.00  \n",
       "Kilometers_Driven  53000.00  73000.00  6500000.00  \n",
       "Seats                  5.00      5.00       10.00  \n",
       "Price                  5.65      9.95      160.00  \n",
       "Power(Numeric)        92.70    138.10      560.00  \n",
       "Engine(Numeric)     1493.00   1984.00     5998.00  \n",
       "Mileage(Numeric)      18.16     21.10       33.54  \n",
       "Car_Age               10.00     12.00       26.00  "
      ]
     },
     "execution_count": 31,
     "metadata": {},
     "output_type": "execute_result"
    }
   ],
   "source": [
    "df.describe().T"
   ]
  },
  {
   "cell_type": "code",
   "execution_count": 32,
   "metadata": {},
   "outputs": [
    {
     "data": {
      "text/html": [
       "<div>\n",
       "<style scoped>\n",
       "    .dataframe tbody tr th:only-of-type {\n",
       "        vertical-align: middle;\n",
       "    }\n",
       "\n",
       "    .dataframe tbody tr th {\n",
       "        vertical-align: top;\n",
       "    }\n",
       "\n",
       "    .dataframe thead th {\n",
       "        text-align: right;\n",
       "    }\n",
       "</style>\n",
       "<table border=\"1\" class=\"dataframe\">\n",
       "  <thead>\n",
       "    <tr style=\"text-align: right;\">\n",
       "      <th></th>\n",
       "      <th>count</th>\n",
       "      <th>unique</th>\n",
       "      <th>top</th>\n",
       "      <th>freq</th>\n",
       "    </tr>\n",
       "  </thead>\n",
       "  <tbody>\n",
       "    <tr>\n",
       "      <th>Name</th>\n",
       "      <td>5975</td>\n",
       "      <td>1855</td>\n",
       "      <td>Mahindra XUV500 W8 2WD</td>\n",
       "      <td>49</td>\n",
       "    </tr>\n",
       "    <tr>\n",
       "      <th>Location</th>\n",
       "      <td>5975</td>\n",
       "      <td>11</td>\n",
       "      <td>Mumbai</td>\n",
       "      <td>784</td>\n",
       "    </tr>\n",
       "    <tr>\n",
       "      <th>Fuel_Type</th>\n",
       "      <td>5975</td>\n",
       "      <td>4</td>\n",
       "      <td>Diesel</td>\n",
       "      <td>3195</td>\n",
       "    </tr>\n",
       "    <tr>\n",
       "      <th>Transmission</th>\n",
       "      <td>5975</td>\n",
       "      <td>2</td>\n",
       "      <td>Manual</td>\n",
       "      <td>4266</td>\n",
       "    </tr>\n",
       "    <tr>\n",
       "      <th>Owner_Type</th>\n",
       "      <td>5975</td>\n",
       "      <td>4</td>\n",
       "      <td>First</td>\n",
       "      <td>4903</td>\n",
       "    </tr>\n",
       "    <tr>\n",
       "      <th>Mileage</th>\n",
       "      <td>5975</td>\n",
       "      <td>442</td>\n",
       "      <td>18.9 kmpl</td>\n",
       "      <td>172</td>\n",
       "    </tr>\n",
       "    <tr>\n",
       "      <th>Engine</th>\n",
       "      <td>5975</td>\n",
       "      <td>145</td>\n",
       "      <td>1197 CC</td>\n",
       "      <td>606</td>\n",
       "    </tr>\n",
       "    <tr>\n",
       "      <th>Power</th>\n",
       "      <td>5975</td>\n",
       "      <td>371</td>\n",
       "      <td>74 bhp</td>\n",
       "      <td>235</td>\n",
       "    </tr>\n",
       "    <tr>\n",
       "      <th>Brand</th>\n",
       "      <td>5975</td>\n",
       "      <td>30</td>\n",
       "      <td>Maruti</td>\n",
       "      <td>1197</td>\n",
       "    </tr>\n",
       "    <tr>\n",
       "      <th>Model</th>\n",
       "      <td>5975</td>\n",
       "      <td>681</td>\n",
       "      <td>WagonR</td>\n",
       "      <td>153</td>\n",
       "    </tr>\n",
       "  </tbody>\n",
       "</table>\n",
       "</div>"
      ],
      "text/plain": [
       "             count unique                     top  freq\n",
       "Name          5975   1855  Mahindra XUV500 W8 2WD    49\n",
       "Location      5975     11                  Mumbai   784\n",
       "Fuel_Type     5975      4                  Diesel  3195\n",
       "Transmission  5975      2                  Manual  4266\n",
       "Owner_Type    5975      4                   First  4903\n",
       "Mileage       5975    442               18.9 kmpl   172\n",
       "Engine        5975    145                 1197 CC   606\n",
       "Power         5975    371                  74 bhp   235\n",
       "Brand         5975     30                  Maruti  1197\n",
       "Model         5975    681                  WagonR   153"
      ]
     },
     "execution_count": 32,
     "metadata": {},
     "output_type": "execute_result"
    }
   ],
   "source": [
    "df.describe(include='object').T\n"
   ]
  },
  {
   "cell_type": "code",
   "execution_count": 33,
   "metadata": {},
   "outputs": [
    {
     "name": "stdout",
     "output_type": "stream",
     "text": [
      "Index(['Name', 'Location', 'Fuel_Type', 'Transmission', 'Owner_Type',\n",
      "       'Mileage', 'Engine', 'Power', 'Brand', 'Model'],\n",
      "      dtype='object')\n",
      "['Year', 'Kilometers_Driven', 'Seats', 'Price', 'Power(Numeric)', 'Engine(Numeric)', 'Mileage(Numeric)', 'Car_Age']\n"
     ]
    }
   ],
   "source": [
    "cat_col = df.select_dtypes(include='object').columns\n",
    "num_col = df.select_dtypes(include=np.number).columns.tolist()\n",
    "print(cat_col)\n",
    "print(num_col)"
   ]
  },
  {
   "cell_type": "code",
   "execution_count": 34,
   "metadata": {},
   "outputs": [
    {
     "name": "stdout",
     "output_type": "stream",
     "text": [
      "Year\n"
     ]
    },
    {
     "data": {
      "image/png": "[encoded data removed]",
      "text/plain": [
       "<Figure size 1000x500 with 1 Axes>"
      ]
     },
     "metadata": {},
     "output_type": "display_data"
    },
    {
     "name": "stdout",
     "output_type": "stream",
     "text": [
      "Kilometers_Driven\n"
     ]
    },
    {
     "data": {
      "image/png": "[encoded data removed]",
      "text/plain": [
       "<Figure size 1000x500 with 1 Axes>"
      ]
     },
     "metadata": {},
     "output_type": "display_data"
    },
    {
     "name": "stdout",
     "output_type": "stream",
     "text": [
      "Seats\n"
     ]
    },
    {
     "data": {
      "image/png": "[encoded data removed]",
      "text/plain": [
       "<Figure size 1000x500 with 1 Axes>"
      ]
     },
     "metadata": {},
     "output_type": "display_data"
    },
    {
     "name": "stdout",
     "output_type": "stream",
     "text": [
      "Price\n"
     ]
    },
    {
     "data": {
      "image/png": "[encoded data removed]",
      "text/plain": [
       "<Figure size 1000x500 with 1 Axes>"
      ]
     },
     "metadata": {},
     "output_type": "display_data"
    },
    {
     "name": "stdout",
     "output_type": "stream",
     "text": [
      "Power(Numeric)\n"
     ]
    },
    {
     "data": {
      "image/png": "[encoded data removed]",
      "text/plain": [
       "<Figure size 1000x500 with 1 Axes>"
      ]
     },
     "metadata": {},
     "output_type": "display_data"
    },
    {
     "name": "stdout",
     "output_type": "stream",
     "text": [
      "Engine(Numeric)\n"
     ]
    },
    {
     "data": {
      "image/png": "[encoded data removed]",
      "text/plain": [
       "<Figure size 1000x500 with 1 Axes>"
      ]
     },
     "metadata": {},
     "output_type": "display_data"
    },
    {
     "name": "stdout",
     "output_type": "stream",
     "text": [
      "Mileage(Numeric)\n"
     ]
    },
    {
     "data": {
      "image/png": "[encoded data removed]",
      "text/plain": [
       "<Figure size 1000x500 with 1 Axes>"
      ]
     },
     "metadata": {},
     "output_type": "display_data"
    },
    {
     "name": "stdout",
     "output_type": "stream",
     "text": [
      "Car_Age\n"
     ]
    },
    {
     "data": {
      "image/png": "[encoded data removed]",
      "text/plain": [
       "<Figure size 1000x500 with 1 Axes>"
      ]
     },
     "metadata": {},
     "output_type": "display_data"
    }
   ],
   "source": [
    "for col in num_col:\n",
    "    print(col)\n",
    "\n",
    "    plt.figure(figsize=(10,5))\n",
    "    df[col].hist(grid = False, bins = 20, color='Red',alpha=0.23, edgecolor = 'black')\n",
    "    plt.ylabel('Frequency')\n",
    "    plt.show()"
   ]
  },
  {
   "cell_type": "code",
   "execution_count": 35,
   "metadata": {},
   "outputs": [],
   "source": [
    "cat_cols = ['Location', 'Fuel_Type', 'Transmission', 'Owner_Type', 'Brand', 'Model']"
   ]
  },
  {
   "cell_type": "code",
   "execution_count": 36,
   "metadata": {},
   "outputs": [
    {
     "name": "stdout",
     "output_type": "stream",
     "text": [
      "Location\n"
     ]
    },
    {
     "data": {
      "image/png": "[encoded data removed]",
      "text/plain": [
       "<Figure size 640x480 with 1 Axes>"
      ]
     },
     "metadata": {},
     "output_type": "display_data"
    },
    {
     "name": "stdout",
     "output_type": "stream",
     "text": [
      "Fuel_Type\n"
     ]
    },
    {
     "data": {
      "image/png": "[encoded data removed]",
      "text/plain": [
       "<Figure size 640x480 with 1 Axes>"
      ]
     },
     "metadata": {},
     "output_type": "display_data"
    },
    {
     "name": "stdout",
     "output_type": "stream",
     "text": [
      "Transmission\n"
     ]
    },
    {
     "data": {
      "image/png": "[encoded data removed]",
      "text/plain": [
       "<Figure size 640x480 with 1 Axes>"
      ]
     },
     "metadata": {},
     "output_type": "display_data"
    },
    {
     "name": "stdout",
     "output_type": "stream",
     "text": [
      "Owner_Type\n"
     ]
    },
    {
     "data": {
      "image/png": "[encoded data removed]",
      "text/plain": [
       "<Figure size 640x480 with 1 Axes>"
      ]
     },
     "metadata": {},
     "output_type": "display_data"
    },
    {
     "name": "stdout",
     "output_type": "stream",
     "text": [
      "Brand\n"
     ]
    },
    {
     "data": {
      "image/png": "[encoded data removed]",
      "text/plain": [
       "<Figure size 640x480 with 1 Axes>"
      ]
     },
     "metadata": {},
     "output_type": "display_data"
    },
    {
     "name": "stdout",
     "output_type": "stream",
     "text": [
      "Model\n"
     ]
    },
    {
     "data": {
      "image/png": "[encoded data removed]",
      "text/plain": [
       "<Figure size 640x480 with 1 Axes>"
      ]
     },
     "metadata": {},
     "output_type": "display_data"
    }
   ],
   "source": [
    "for col in cat_cols:\n",
    "    print(col)\n",
    "    sns.countplot(x = df[col], order = df[col].value_counts().head(10).index, palette = 'muted')\n",
    "    plt.xticks(rotation=90)\n",
    "    plt.show()\n",
    "    "
   ]
  },
  {
   "cell_type": "code",
   "execution_count": 51,
   "metadata": {},
   "outputs": [
    {
     "data": {
      "text/plain": [
       "array(['wagonr', 'creta1.6', 'jazzv', 'ertigavdi', 'a4new', 'eonlpg',\n",
       "       'micradiesel', 'innovacrysta', 'ventodiesel', 'indicavista',\n",
       "       'ciazzeta', 'city1.5', 'swiftvdi', 'roverrange', 'roverfreelander',\n",
       "       'pajerosport', 'amazes', 'swiftddis', 'duster85ps', 'newc-class',\n",
       "       '3series', 'scross', 'a62011-2015', 'i201.2', 'ventopetrol',\n",
       "       'citycorporate', 'altok10', 'wrvi-vtec', 'innova2.5',\n",
       "       'duster110ps', 'corollaaltis', 'ssangyongrexton', 'a62.7',\n",
       "       'vento1.6', 'vitarabrezza', 'kuv100', 'm-classml', 'polodiesel',\n",
       "       'altolxi', 'nanolx', 'i20magna', 'elantra2.0', 'elantracrdi',\n",
       "       'xcent1.1', 'tharcrde', 'a42.0', 'swiftldi', 'grandi10',\n",
       "       'vento2013-2015', 'kwidrxt', 'i10asta', 'x-trailslx', 'zenestilo',\n",
       "       'figodiesel', 'indicav2', 'cityzx', 'c-classprogressive',\n",
       "       'ertigashvs', 'creta1.4', 'cayenne2009-2014', 'xuv500w8',\n",
       "       'i10sportz', 'terranoxv', 'briovx', 'a62.0', 'fiesta1.4',\n",
       "       'innova2.0', 'santroxing', 'zestrevotron', 'amazesx', 'ritzvdi',\n",
       "       'cityi', '5series', 'fortuner4x2', 'ecosport1.5', 'vernatransform',\n",
       "       'polopetrol', 'i201.4', 'i20asta', 'goplus', 'a43.0',\n",
       "       'i202015-2017', 'omni5', 'etiosliva', 'xf3.0', 'verna1.6', 'eeco5',\n",
       "       'nanotwist', 'civic2006-2010', 'v40cross', 'micraxv', 'bclass',\n",
       "       'vernacrdi', 'nanoxta', 'scorpiovlx', 'cr-v2.4', 'vento1.5',\n",
       "       'ciazvxi', 'xuv500at', 'ritzvxi', 'slc43', 'vernavtvt', '1series',\n",
       "       'jazz1.2', 'swiftvvt', 'fortuner3.0', 'beatlt', 'rapid1.5',\n",
       "       'ciaz1.4', 'rs5coupe', 'sclass', 'superbelegance', 'eonmagna',\n",
       "       'gonxt', 'brios', 'swiftvxi', 'x5xdrive', 'briov', 'i10magna',\n",
       "       'glc220', 'countrymancooper', 'beatdiesel', 'optramagnum',\n",
       "       'lodgy110ps', 'e-classe250', 'balenoalpha', 'scorpio1.99',\n",
       "       'ertigazdi', 'lauraambiente', 'nuvosportn6', 'fabia1.4',\n",
       "       'indigoecs', 'q32012-2015', 'octaviaelegance', 'a8l', 'rapid1.6',\n",
       "       'superbstyle', 'i20active', 'amazevx', 'verito1.5',\n",
       "       'cooperconvertible', 'swiftzdi', 'santafe', 'cityi-vtec',\n",
       "       'i20sportz', 'x1sdrive20d', 'ciaz1.3', 'rapidleisure',\n",
       "       'accentcrdi', 'pologt', 'i10era', 'tucson2.0', 'omnimpi',\n",
       "       'gle350d', 'ritzzdi', 'a-starvxi', 'grandepunto', 'x3xdrive30d',\n",
       "       'zenvxi', 'zestquadrajet', 'ecosport1.0', 'swiftdzire', 'alto800',\n",
       "       'q73.0', 'laura1.9', 'jazzvx', 'jetta2007-2011', 'indigolx',\n",
       "       'glaclass', 'celeriovxi', 'gle250d', 'omni8', 'brio1.2',\n",
       "       'sumodelux', 'indigols', 'ertigapaseo', 'accord2.4', 'fiestaexi',\n",
       "       '6series', 'q745', 'corollah4', 'manzaelan', 'octaviaambition',\n",
       "       'eond', 'manzaclub', 'octaviars', 'spark1.0', 'xf2.0', 'cr-vrvi',\n",
       "       'superbl&k', 'fiestaclassic', 'zenlx', 'clubmancooper', 'etiosgd',\n",
       "       'altovxi', 'x53.0d', 'teanaxv', '800ac', 'brvi-vtec',\n",
       "       'e-class2009-2013', 'e-class2015-2017', 'xeportfolio', 'ritzldi',\n",
       "       'xenonxt', 'a335', 'gl-class2007', 'altolx', 'xfdiesel', 'q335',\n",
       "       'scorpios10', 'br-vi-vtec', 's802006-2013', 'accentgle', 'glc43',\n",
       "       'a635', 'etiosvd', 'eonera', 'captur1.5', 'v40d3', 'enjoy1.4',\n",
       "       'bolerozlx', 'santrogls', 'q530', 'cediasports', 'celerioldi',\n",
       "       's-crossdelta', 'q74.2', 'manzaaqua', 'fortuner4x4', 'fiesta1.6',\n",
       "       'e-classe', 'yetiambition', 'figo2015-2019', 'endeavourhurricane',\n",
       "       'gls350d', 'cr-v2.4l', 'aclass', 'ertigavxi', 'octaviaclassic',\n",
       "       'zenlxi', 'sx4zxi', 'camrya/t', 'beatls', 'mobilios', 'fabia1.6',\n",
       "       'etiosg', 'e-class280', 'lineat', 'ertigazxi', 'enjoytcdi',\n",
       "       'x1sdrive', 'ciazrs', 'xuv500w6', 'tt2.0', 'polo1.5',\n",
       "       'renaultlogan', 'jazz1.5', 'xf2.2', 'compass2.0', 'swiftzxi',\n",
       "       'ikon1.3', 'bolerovlx', 'sailhatchback', 'quantoc2', 'x52014-2019',\n",
       "       'pajero2.8', 'glc220d', 'xuv500w10', 'terranoxl', 'scorpios4',\n",
       "       'aveou-va', 'xcent1.2', 'eonsportz', 'xyloe8', 'cityv', 'bolerodi',\n",
       "       'esteemvxi', 'santrols', 'cooper5', 'safaristorme', 'br-vi-dtec',\n",
       "       'jetta2013-2015', 'ignis1.2', 'beatoption', 'indicadls', 'ciazzdi',\n",
       "       'xj2.0l', 'corollaexecutive', 'ventoipl', 'ciazzxi', 'sunnyxv',\n",
       "       'ciazvdi', 'polo1.2', 'amazeex', 'superb1.8', 'slk-classslk',\n",
       "       'passathighline', 'aveo1.4', 'ritzlxi', 'endeavour3.2',\n",
       "       'q52008-2012', 'city1.3', 'dzireamt', 'coopers', 'yetielegance',\n",
       "       'balenozeta', 'accentgls', 'cruzeltz', 'figotitanium',\n",
       "       'lineaemotion', 'figoaspire', 'balenolxi', 'scorpio2.6',\n",
       "       'koleos2.0', 'omnie', 'endeavourxlt', 'xuv500w9', 'sx4s',\n",
       "       'qualisfs', 'ameo1.5', 'xyloh4', 'altogreen', 'a63.0', 'cr-v2.0l',\n",
       "       'mobiliors', 'e-classfacelift', 'kwid1.0', 'dzirevxi',\n",
       "       'grandvitara', 'tt40', 'sunny2011-2014', 'accentexecutive',\n",
       "       'scorpiolx', 'redi-got', 'camryhybrid', 'jetta2012-2014', 'eeco7',\n",
       "       'q32.0', 'fortwocdi', 'sumodx', 'ventotsi', 'outlander2.4',\n",
       "       'cayman2009-2012', 'fabia1.2', 'sx4vxi', 'ameo1.2', 'balenodelta',\n",
       "       'cla200', 'endeavour2.2', 'civic2010-2013', 'balenovxi', 'xc60d5',\n",
       "       'a-starlxi', 'indigocs', 'ecosportsignature', 'manzaaura',\n",
       "       'newsafari', 'gl-class350', 'fortuner2.8', 'micraxe', 'compass1.4',\n",
       "       'a435', 'indigogle', 's-crosszeta', 'xuv500w4', 'lauraelegance',\n",
       "       'boxsters', 'xuv300w8', 'hexaxt', 'tiago1.2', 'swiftlxi',\n",
       "       '7series', 'superb2009-2014', 'avventuramultijet', 'sx4zdi',\n",
       "       'tigor1.2', 'indicagls', 's60d4', 'polo1.0', 'q735', 'classicnova',\n",
       "       'zenvx', '800dx', 'corolla1.8', 'xe2.0l', 'xylod4', 'camry2.5',\n",
       "       'q53.0', 'balenosigma', 'figopetrol', 'roverdiscovery', 'x1m',\n",
       "       'beetle2.0', 'lineaclassic', 'petra1.2', 'laura1.8', 'micraxl',\n",
       "       'i20era', 'getz1.5', 'a72011-2015', 'pologti', 'micraactive',\n",
       "       'fiestadiesel', 'elitei20', 'optra1.6', 'q52.0', 'scorpios6',\n",
       "       '800std', 'coopercountryman', 'saillt', 'xj3.0l', 'accordvti-l',\n",
       "       'x3xdrive20d', 'lauraambition', 'aspiretitanium', 'cooper3',\n",
       "       'passatdiesel', 'tiguan2.0', 'captivaltz', 'scorpio2009-2014',\n",
       "       'i10magna(o)', 'mobiliov', 'a-starat', 'octaviarider',\n",
       "       'dusterpetrol', 'puntoevo', 'tuv300', 'endeavour4x2', 'amazev',\n",
       "       'figo1.5d', 'sunnyxl', 'endeavour3.0l', 'x6xdrive', 'kwidclimber',\n",
       "       'cayennediesel', 'got', 'eon1.0', 'ritzzxi', 'amazee',\n",
       "       'boltquadrajet', 'elantra1.6', 'x1xdrive', 'evalia2013',\n",
       "       'lineat-jet', 'santrodx', 'enjoy1.3', 'scaladiesel', 'corollah2',\n",
       "       'e-class200', 'dzirevdi', 'dzirezdi', 'fabia1.2l', 'sumoex',\n",
       "       'linea1.3', 'figo1.2p', 'e-class220', 'octavia1.9', 'ikon1.4',\n",
       "       'xyloe4', 'bolerosle', 'ritzat', 'jeepmm', 'sonataembera',\n",
       "       'dusteradventure', 'verna1.4', 'vernasx', 'cayenneturbo',\n",
       "       'quantoc8', 'corollah5', 'freestyletitanium', 'ciazat',\n",
       "       'scorpiosle', 'sx4vdi', 'fiestatitanium', 'e-classe270', 'camryw4',\n",
       "       'superb2.5', 'etioscross', 'celeriozxi', 'cityi-dtec', 'qualisrs',\n",
       "       'x6xdrive30d', 'logandiesel', 'ciazalpha', 'safaridicor',\n",
       "       'taveralt', 'celeriolxi', 'nanoxt', 'santroat', 'xylod2',\n",
       "       'xc902007-2015', 'scorpios2', 'sunnydiesel', 'pulserxl',\n",
       "       'etiospetrol', 'corolladx', 'hexaxta', 'accord2001-2003',\n",
       "       'sx4green', 'octavia2.0', 'nuvosportn8', 'octaviaambiente',\n",
       "       's80d5', 'taverals', 'montero3.2', 'tiagoamt', 'nanocx',\n",
       "       'scalarxl', 'a41.8', 'getzgls', 'panameradiesel', 'a62.8',\n",
       "       'boleromhawk', 'mobilioe', 'superb3.6', 's60d3', 'celeriocng',\n",
       "       'scorpiodx', 'tucsoncrdi', 'swiftamt', 'etiosvx', 'crosspolo1.5',\n",
       "       'celeriozdi', 'getzgle', 'brioe', 'fluencediesel', 'x5x5',\n",
       "       'x3xdrive', 'tigor1.05', 'ventureex', 'endeavour2.5l', 'nexon1.5',\n",
       "       'mux4wd', 'platinumetios', 'thardi', 'panamera2010', 'santrogs',\n",
       "       'tiagowizz', 'kwidrxl', 'scorpios8', 'ventosport', 'cayennebase',\n",
       "       'jazzselect', 'a430', 'endeavourtitanium', 'sail1.2', 'dzireldi',\n",
       "       'eecocng', 'xuv500w7', 'q330', 'rapid2013-2016', 'e-classe400',\n",
       "       'aspireambiente', 'sonatatransform', 'quantoc6', 'r-classr350',\n",
       "       'octavial', 'getzgvs', 'boleroslx', 'indigoxl', 'cr-v2.0',\n",
       "       'passat1.8', 'quantoc4', 'pajero4x4', 'brioex', 'teana230jm',\n",
       "       'cls-class2006-2010', 'd-maxv-cross', 'cr-vsport', 's-crossalpha',\n",
       "       'fluence1.5', 'captivalt', 's60d5', 'e-class250', 'balenors',\n",
       "       'fluence2.0', 'altostd', 'dzirenew', 'sonatagold', 'ertigalxi',\n",
       "       'ignis1.3', 's-class320', 'jazzexclusive', 'lancer1.5', 'sunnyxe',\n",
       "       'kwidamt', 'octaviastyle', 'a43.2', 'swiftrs', 'passat2.0',\n",
       "       'e-classe350', 'classic1.4', 'redi-gos', 's-class280',\n",
       "       'eecosmiles', 'vento1.2', 'dusterrxz', 'ikon1.6', 'e-class230',\n",
       "       'accordv6', 'xyloe2', 'jazzmode', 'esteemlx', 'laurars',\n",
       "       'etiosvxd', 'superb2.8', 'xc60d4', 'redigo', 'mustangv8',\n",
       "       'fusionplus', 'jazzactive', 'fortunertrd', 'superbambition',\n",
       "       'scorpioslx', 'siena1.2', 'slk-class55', 'xfaero', '1000ac',\n",
       "       'fiesta1.5', 'sl-classsl', 'vernaxi', 's-classs', 'lancerglxd',\n",
       "       'santrod', 'nexon1.2', 'z42009-2013', 'nanostd', 'onelx', 'jazzs',\n",
       "       'loganpetrol', 'versadx2', 'sonata2.4', 'xj5.0', 'aveo1.6',\n",
       "       'enjoypetrol', 'getz1.3', 'vernaxxi', 'pulsepetrol', 'cayennes',\n",
       "       'laural', 'wr-vedge', 'camryw2', 'continentalflying', 'santrolp',\n",
       "       'cr-vpetrol', 'tigorxe', 'etios1.4', 'qualisfleet', 'rapidultima',\n",
       "       'ventokonekt', 'gallardocoupe', 'ventomagnific', 'i20diesel',\n",
       "       'etiosv', 'ftype', 'lauraclassic', 'indicalei', 'elantrasx',\n",
       "       'poloipl', 'boltrevotron'], dtype=object)"
      ]
     },
     "execution_count": 51,
     "metadata": {},
     "output_type": "execute_result"
    }
   ],
   "source": [
    "df['Model'].unique()"
   ]
  },
  {
   "cell_type": "code",
   "execution_count": 47,
   "metadata": {},
   "outputs": [],
   "source": [
    "df['Model'] = df['Model'].str.lower()"
   ]
  },
  {
   "cell_type": "code",
   "execution_count": 48,
   "metadata": {},
   "outputs": [
    {
     "data": {
      "text/plain": [
       "660"
      ]
     },
     "execution_count": 48,
     "metadata": {},
     "output_type": "execute_result"
    }
   ],
   "source": [
    "df['Model'].nunique()"
   ]
  },
  {
   "cell_type": "code",
   "execution_count": null,
   "metadata": {},
   "outputs": [],
   "source": []
  }
 ],
 "metadata": {
  "kernelspec": {
   "display_name": "Python 3",
   "language": "python",
   "name": "python3"
  },
  "language_info": {
   "codemirror_mode": {
    "name": "ipython",
    "version": 3
   },
   "file_extension": ".py",
   "mimetype": "text/x-python",
   "name": "python",
   "nbconvert_exporter": "python",
   "pygments_lexer": "ipython3",
   "version": "3.12.4"
  }
 },
 "nbformat": 4,
 "nbformat_minor": 2
}
